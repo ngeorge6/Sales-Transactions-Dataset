{
  "nbformat": 4,
  "nbformat_minor": 0,
  "metadata": {
    "colab": {
      "name": "Sales_Transactions_Dataset.ipynb",
      "provenance": [],
      "collapsed_sections": []
    },
    "kernelspec": {
      "name": "python3",
      "display_name": "Python 3"
    },
    "accelerator": "GPU"
  },
  "cells": [
    {
      "cell_type": "code",
      "metadata": {
        "id": "w1hDk9hDvOH7",
        "colab_type": "code",
        "colab": {
          "base_uri": "https://localhost:8080/",
          "height": 144
        },
        "outputId": "6fc5f248-ebbb-4186-d454-5de3bc46e196"
      },
      "source": [
        "import pandas as pd\n",
        "import numpy as np\n",
        "\n",
        "from sklearn.cluster import KMeans\n",
        "# Calculate silhouette_score\n",
        "from sklearn.metrics import silhouette_score\n",
        "\n",
        "import warnings\n",
        "warnings.filterwarnings(\"ignore\")\n",
        "\n",
        "from google.colab import drive\n",
        "drive.mount('/gdrive')\n",
        "#Change current working directory to gdrive\n",
        "%cd /gdrive\n"
      ],
      "execution_count": null,
      "outputs": [
        {
          "output_type": "stream",
          "text": [
            "Go to this URL in a browser: https://accounts.google.com/o/oauth2/auth?client_id=947318989803-6bn6qk8qdgf4n4g3pfee6491hc0brc4i.apps.googleusercontent.com&redirect_uri=urn%3aietf%3awg%3aoauth%3a2.0%3aoob&response_type=code&scope=email%20https%3a%2f%2fwww.googleapis.com%2fauth%2fdocs.test%20https%3a%2f%2fwww.googleapis.com%2fauth%2fdrive%20https%3a%2f%2fwww.googleapis.com%2fauth%2fdrive.photos.readonly%20https%3a%2f%2fwww.googleapis.com%2fauth%2fpeopleapi.readonly\n",
            "\n",
            "Enter your authorization code:\n",
            "··········\n",
            "Mounted at /gdrive\n",
            "/gdrive\n"
          ],
          "name": "stdout"
        }
      ]
    },
    {
      "cell_type": "code",
      "metadata": {
        "id": "BMwGQK7KAd7T",
        "colab_type": "code",
        "colab": {
          "base_uri": "https://localhost:8080/",
          "height": 35
        },
        "outputId": "f7d27088-66c6-4f0f-b333-1e80d683c4d9"
      },
      "source": [
        "#Read files\n",
        "trainfile = r'/gdrive/My Drive/CIS 508/Assignment/HW4/Sales_Transactions_Dataset_Weekly.csv'\n",
        "trainData = pd.read_csv(trainfile) #creates a dataframe\n",
        "print(trainData.shape)"
      ],
      "execution_count": null,
      "outputs": [
        {
          "output_type": "stream",
          "text": [
            "(811, 107)\n"
          ],
          "name": "stdout"
        }
      ]
    },
    {
      "cell_type": "code",
      "metadata": {
        "id": "SWOTk6C1Ao45",
        "colab_type": "code",
        "colab": {
          "base_uri": "https://localhost:8080/",
          "height": 35
        },
        "outputId": "f320f125-403a-4c0a-d7c5-9f49699f8fbb"
      },
      "source": [
        "#Keep Only the Normalised Values\n",
        "X_train = trainData.drop(['Product_Code','W0','W1','W2','W3','W4','W5','W6','W7','W8','W9','W10','W11','W12','W13','W14','W15','W16','W17','W18','W19','W20','W21','W22','W23','W24','W25','W26','W27','W28','W29','W30','W31','W32','W33','W34','W35','W36','W37','W38','W39','W40','W41','W42','W43','W44','W45','W46','W47','W48','W49','W50','W51','MIN','MAX'], axis=1)\n",
        "# X_train = X_train.drop([\"Region\"], axis=1)\n",
        "print(X_train.shape)"
      ],
      "execution_count": null,
      "outputs": [
        {
          "output_type": "stream",
          "text": [
            "(811, 52)\n"
          ],
          "name": "stdout"
        }
      ]
    },
    {
      "cell_type": "code",
      "metadata": {
        "id": "-Yd724taAv3o",
        "colab_type": "code",
        "colab": {
          "base_uri": "https://localhost:8080/",
          "height": 53
        },
        "outputId": "ab7f797b-47bb-40de-93bf-8f3246963261"
      },
      "source": [
        "#K-Means Clustering ========================================================================\n",
        "#Default Mode - K=8\n",
        "kmeans = KMeans()\n",
        "kmeans.fit(X_train)\n",
        "print(X_train.shape)\n",
        "print(silhouette_score(X_train, kmeans.labels_))"
      ],
      "execution_count": null,
      "outputs": [
        {
          "output_type": "stream",
          "text": [
            "(811, 52)\n",
            "0.038876876758022795\n"
          ],
          "name": "stdout"
        }
      ]
    },
    {
      "cell_type": "code",
      "metadata": {
        "id": "ZbHRfy6u0Bu5",
        "colab_type": "code",
        "colab": {
          "base_uri": "https://localhost:8080/",
          "height": 178
        },
        "outputId": "7acf3a38-a9b3-4cd6-8abc-92114ac159f4"
      },
      "source": [
        "#Add Cluster Number to each datapoint + save file\n",
        "df_kmeans=X_train\n",
        "kmeans_predict_train=kmeans.predict(df_kmeans)\n",
        "df_kmeans['Cluster Number']=kmeans_predict_train\n",
        "print(df_kmeans.shape)\n",
        "print(df_kmeans.head())\n",
        "export_csv = df_kmeans.to_csv(r'/gdrive/My Drive/CIS 508/Assignment/HW4/KmeansClusters_STDW-8.csv')"
      ],
      "execution_count": null,
      "outputs": [
        {
          "output_type": "stream",
          "text": [
            "(811, 53)\n",
            "   Normalized 0  Normalized 1  ...  Normalized 51  Cluster Number\n",
            "0          0.44          0.50  ...           0.39               7\n",
            "1          0.70          0.60  ...           0.00               7\n",
            "2          0.36          0.73  ...           0.36               4\n",
            "3          0.59          0.35  ...           0.35               7\n",
            "4          0.33          0.13  ...           0.40               7\n",
            "\n",
            "[5 rows x 53 columns]\n"
          ],
          "name": "stdout"
        }
      ]
    },
    {
      "cell_type": "code",
      "metadata": {
        "id": "euNc_BmwriUs",
        "colab_type": "code",
        "colab": {
          "base_uri": "https://localhost:8080/",
          "height": 53
        },
        "outputId": "fd1d4d34-2366-45f5-d8fb-bf13a5e388ea"
      },
      "source": [
        "#K-Means Clustering ========================================================================\n",
        "# K=15\n",
        "kmeans = KMeans(n_clusters=15, init='random', algorithm='elkan')\n",
        "kmeans.fit(X_train)\n",
        "kmeans.labels_\n",
        "print(X_train.shape)\n",
        "#Print Silhouette measure\n",
        "print(silhouette_score(X_train, kmeans.labels_))"
      ],
      "execution_count": null,
      "outputs": [
        {
          "output_type": "stream",
          "text": [
            "(811, 53)\n",
            "0.09704668837140082\n"
          ],
          "name": "stdout"
        }
      ]
    },
    {
      "cell_type": "code",
      "metadata": {
        "id": "Ykg6Sd73rpuh",
        "colab_type": "code",
        "colab": {
          "base_uri": "https://localhost:8080/",
          "height": 178
        },
        "outputId": "7d8cc1e2-a9de-4cbf-edad-c2f80dcaa104"
      },
      "source": [
        "#Add Cluster Number to each datapoint + save file\n",
        "df_kmeans=X_train\n",
        "kmeans_predict_train=kmeans.predict(X_train)\n",
        "\n",
        "df_kmeans['Cluster Number']=kmeans_predict_train\n",
        "print(df_kmeans.shape)\n",
        "print(df_kmeans.head())\n",
        "export_csv = df_kmeans.to_csv(r'/gdrive/My Drive/CIS 508/Assignment/HW4/KmeansClusters_STDW-15.csv')"
      ],
      "execution_count": null,
      "outputs": [
        {
          "output_type": "stream",
          "text": [
            "(811, 53)\n",
            "   Normalized 0  Normalized 1  ...  Normalized 51  Cluster Number\n",
            "0          0.44          0.50  ...           0.39              11\n",
            "1          0.70          0.60  ...           0.00              11\n",
            "2          0.36          0.73  ...           0.36               1\n",
            "3          0.59          0.35  ...           0.35              11\n",
            "4          0.33          0.13  ...           0.40              11\n",
            "\n",
            "[5 rows x 53 columns]\n"
          ],
          "name": "stdout"
        }
      ]
    },
    {
      "cell_type": "code",
      "metadata": {
        "id": "TR10pJaLuFVM",
        "colab_type": "code",
        "colab": {
          "base_uri": "https://localhost:8080/",
          "height": 53
        },
        "outputId": "e954b29b-5ba4-4787-f5a8-99fc2520dfe7"
      },
      "source": [
        "#K-Means Clustering ========================================================================\n",
        "# K=20\n",
        "kmeans = KMeans(n_clusters=20, init='random', algorithm='elkan')\n",
        "kmeans.fit(X_train)\n",
        "kmeans.labels_\n",
        "print(X_train.shape)\n",
        "#Print Silhouette measure\n",
        "print(silhouette_score(X_train, kmeans.labels_))"
      ],
      "execution_count": null,
      "outputs": [
        {
          "output_type": "stream",
          "text": [
            "(811, 53)\n",
            "0.11819765272339879\n"
          ],
          "name": "stdout"
        }
      ]
    },
    {
      "cell_type": "code",
      "metadata": {
        "id": "qNI2J3V1L4b8",
        "colab_type": "code",
        "colab": {
          "base_uri": "https://localhost:8080/",
          "height": 178
        },
        "outputId": "1fb32e26-9eb8-416c-9398-07ecee102992"
      },
      "source": [
        "#Add Cluster Number to each datapoint + save file\n",
        "df_kmeans=X_train\n",
        "kmeans_predict_train=kmeans.predict(X_train)\n",
        "\n",
        "df_kmeans['Cluster Number']=kmeans_predict_train\n",
        "print(df_kmeans.shape)\n",
        "print(df_kmeans.head())\n",
        "export_csv = df_kmeans.to_csv(r'/gdrive/My Drive/CIS 508/Assignment/HW4/KmeansClusters_STDW-20.csv')"
      ],
      "execution_count": null,
      "outputs": [
        {
          "output_type": "stream",
          "text": [
            "(811, 53)\n",
            "   Normalized 0  Normalized 1  ...  Normalized 51  Cluster Number\n",
            "0          0.44          0.50  ...           0.39              14\n",
            "1          0.70          0.60  ...           0.00              14\n",
            "2          0.36          0.73  ...           0.36              11\n",
            "3          0.59          0.35  ...           0.35              14\n",
            "4          0.33          0.13  ...           0.40              14\n",
            "\n",
            "[5 rows x 53 columns]\n"
          ],
          "name": "stdout"
        }
      ]
    }
  ]
}